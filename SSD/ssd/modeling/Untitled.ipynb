{
 "cells": [
  {
   "cell_type": "code",
   "execution_count": 111,
   "id": "58729be7",
   "metadata": {},
   "outputs": [],
   "source": [
    "import torch.nn as nn\n",
    "import torch\n",
    "import math\n",
    "import torch.nn.functional as F\n",
    "device = torch.device(\"cuda\" if torch.cuda.is_available() else \"cpu\")\n",
    "import numpy as np\n"
   ]
  },
  {
   "cell_type": "code",
   "execution_count": 149,
   "id": "60d9ae7d",
   "metadata": {},
   "outputs": [],
   "source": [
    "p = torch.rand([32,9, 65440])\n",
    "y = torch.rand([32,65440])"
   ]
  },
  {
   "cell_type": "code",
   "execution_count": 159,
   "id": "5d03635d",
   "metadata": {},
   "outputs": [],
   "source": [
    "def focal_loss(p, y, gamma):\n",
    "    \"\"\"\n",
    "    Args:\n",
    "        p: [32, 9, 65440]\n",
    "        y = [32, 65440]\n",
    "    \"\"\"\n",
    "    n_classes = p.size(1)\n",
    "    y = F.one_hot(y.long(),num_classes=n_classes)\n",
    "    y = y.transpose(1, 2).contiguous()\n",
    "\n",
    "    alpha = torch.ones([n_classes]) * 1000.0\n",
    "    alpha[0] = 10\n",
    "    # alpha.size() = 9\n",
    "\n",
    "    p = F.softmax(p,dim=1)\n",
    "    #p: [32, 9, 65440]\n",
    "\n",
    "    term1 = torch.pow(1 - p,gamma)\n",
    "    #term1: [32, 9, 65440]\n",
    "\n",
    "    term2 = torch.log(p)\n",
    "    #term2: [32, 9, 65440]\n",
    "\n",
    "    term3 = term1 * y * term2\n",
    "    \n",
    "    \n",
    "    term3 = torch.einsum('a,bcd->bad', -alpha.to(device), term3.to(device))\n",
    "    #term3: [32, 9, 65440]\n",
    "    return term3"
   ]
  },
  {
   "cell_type": "code",
   "execution_count": 160,
   "id": "59845f6c",
   "metadata": {},
   "outputs": [
    {
     "data": {
      "text/plain": [
       "tensor(10242.3525, device='cuda:0')"
      ]
     },
     "execution_count": 160,
     "metadata": {},
     "output_type": "execute_result"
    }
   ],
   "source": [
    "focal_loss(p,y, gamma=5).sum(dim=1).mean()"
   ]
  },
  {
   "cell_type": "code",
   "execution_count": 152,
   "id": "fcaab2eb",
   "metadata": {},
   "outputs": [
    {
     "data": {
      "text/plain": [
       "torch.Size([32, 9, 65440])"
      ]
     },
     "execution_count": 152,
     "metadata": {},
     "output_type": "execute_result"
    }
   ],
   "source": [
    "p.long().size()"
   ]
  },
  {
   "cell_type": "code",
   "execution_count": null,
   "id": "718865e1",
   "metadata": {},
   "outputs": [],
   "source": []
  }
 ],
 "metadata": {
  "kernelspec": {
   "display_name": "Python 3 (ipykernel)",
   "language": "python",
   "name": "python3"
  },
  "language_info": {
   "codemirror_mode": {
    "name": "ipython",
    "version": 3
   },
   "file_extension": ".py",
   "mimetype": "text/x-python",
   "name": "python",
   "nbconvert_exporter": "python",
   "pygments_lexer": "ipython3",
   "version": "3.8.12"
  }
 },
 "nbformat": 4,
 "nbformat_minor": 5
}
